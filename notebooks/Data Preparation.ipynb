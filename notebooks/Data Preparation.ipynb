{
 "cells": [
  {
   "cell_type": "code",
   "execution_count": 1,
   "metadata": {
    "execution": {
     "iopub.execute_input": "2022-01-02T11:23:28.037952Z",
     "iopub.status.busy": "2022-01-02T11:23:28.037118Z",
     "iopub.status.idle": "2022-01-02T11:23:28.044528Z",
     "shell.execute_reply": "2022-01-02T11:23:28.043827Z",
     "shell.execute_reply.started": "2022-01-02T11:23:28.037862Z"
    }
   },
   "outputs": [],
   "source": [
    "# ! pip install langdetect --quiet"
   ]
  },
  {
   "cell_type": "markdown",
   "metadata": {},
   "source": [
    "Importing necessary libraries"
   ]
  },
  {
   "cell_type": "code",
   "execution_count": 1,
   "metadata": {
    "execution": {
     "iopub.execute_input": "2022-01-02T11:46:05.488121Z",
     "iopub.status.busy": "2022-01-02T11:46:05.487631Z",
     "iopub.status.idle": "2022-01-02T11:46:05.492984Z",
     "shell.execute_reply": "2022-01-02T11:46:05.492171Z",
     "shell.execute_reply.started": "2022-01-02T11:46:05.488086Z"
    }
   },
   "outputs": [],
   "source": [
    "import os\n",
    "import pandas as pd\n",
    "import numpy as np\n",
    "import json\n",
    "import random\n",
    "from tqdm import tqdm\n",
    "\n",
    "import matplotlib.pyplot as plt\n",
    "import seaborn as sns\n",
    "plt.style.use('ggplot')\n",
    "\n",
    "## detect language of the text\n",
    "from langdetect import detect"
   ]
  },
  {
   "cell_type": "markdown",
   "metadata": {},
   "source": [
    "## Data Preparation\n",
    "\n",
    "* Load metadata\n",
    "* Get the path of all json files.\n",
    "* Extract the body text of all the papers from the json files.\n",
    "* Combine the metadata and the body text.\n",
    "* Determine the language of each paper and keep only those in English.\n",
    "* Remove null and duplicate values "
   ]
  },
  {
   "cell_type": "code",
   "execution_count": 3,
   "metadata": {
    "execution": {
     "iopub.execute_input": "2022-01-02T11:23:28.066302Z",
     "iopub.status.busy": "2022-01-02T11:23:28.066048Z",
     "iopub.status.idle": "2022-01-02T11:23:44.345618Z",
     "shell.execute_reply": "2022-01-02T11:23:44.344947Z",
     "shell.execute_reply.started": "2022-01-02T11:23:28.066268Z"
    }
   },
   "outputs": [
    {
     "name": "stderr",
     "output_type": "stream",
     "text": [
      "/Users/fidahussainrao/tensorflow-test/env/lib/python3.9/site-packages/IPython/core/interactiveshell.py:3457: DtypeWarning: Columns (1,4,5,6,13,14,15,16) have mixed types.Specify dtype option on import or set low_memory=False.\n",
      "  exec(code_obj, self.user_global_ns, self.user_ns)\n"
     ]
    },
    {
     "data": {
      "text/html": [
       "<div>\n",
       "<style scoped>\n",
       "    .dataframe tbody tr th:only-of-type {\n",
       "        vertical-align: middle;\n",
       "    }\n",
       "\n",
       "    .dataframe tbody tr th {\n",
       "        vertical-align: top;\n",
       "    }\n",
       "\n",
       "    .dataframe thead th {\n",
       "        text-align: right;\n",
       "    }\n",
       "</style>\n",
       "<table border=\"1\" class=\"dataframe\">\n",
       "  <thead>\n",
       "    <tr style=\"text-align: right;\">\n",
       "      <th></th>\n",
       "      <th>cord_uid</th>\n",
       "      <th>paper_id</th>\n",
       "      <th>source_x</th>\n",
       "      <th>title</th>\n",
       "      <th>doi</th>\n",
       "      <th>pmcid</th>\n",
       "      <th>pubmed_id</th>\n",
       "      <th>license</th>\n",
       "      <th>abstract</th>\n",
       "      <th>publish_time</th>\n",
       "      <th>authors</th>\n",
       "      <th>journal</th>\n",
       "      <th>mag_id</th>\n",
       "      <th>who_covidence_id</th>\n",
       "      <th>arxiv_id</th>\n",
       "      <th>pdf_json_files</th>\n",
       "      <th>pmc_json_files</th>\n",
       "      <th>url</th>\n",
       "      <th>s2_id</th>\n",
       "    </tr>\n",
       "  </thead>\n",
       "  <tbody>\n",
       "    <tr>\n",
       "      <th>0</th>\n",
       "      <td>ug7v899j</td>\n",
       "      <td>d1aafb70c066a2068b02786f8929fd9c900897fb</td>\n",
       "      <td>PMC</td>\n",
       "      <td>Clinical features of culture-proven Mycoplasma...</td>\n",
       "      <td>10.1186/1471-2334-1-6</td>\n",
       "      <td>PMC35282</td>\n",
       "      <td>11472636</td>\n",
       "      <td>no-cc</td>\n",
       "      <td>OBJECTIVE: This retrospective chart review des...</td>\n",
       "      <td>2001-07-04</td>\n",
       "      <td>Madani, Tariq A; Al-Ghamdi, Aisha A</td>\n",
       "      <td>BMC Infect Dis</td>\n",
       "      <td>NaN</td>\n",
       "      <td>NaN</td>\n",
       "      <td>NaN</td>\n",
       "      <td>document_parses/pdf_json/d1aafb70c066a2068b027...</td>\n",
       "      <td>document_parses/pmc_json/PMC35282.xml.json</td>\n",
       "      <td>https://www.ncbi.nlm.nih.gov/pmc/articles/PMC3...</td>\n",
       "      <td>NaN</td>\n",
       "    </tr>\n",
       "    <tr>\n",
       "      <th>1</th>\n",
       "      <td>02tnwd4m</td>\n",
       "      <td>6b0567729c2143a66d737eb0a2f63f2dce2e5a7d</td>\n",
       "      <td>PMC</td>\n",
       "      <td>Nitric oxide: a pro-inflammatory mediator in l...</td>\n",
       "      <td>10.1186/rr14</td>\n",
       "      <td>PMC59543</td>\n",
       "      <td>11667967</td>\n",
       "      <td>no-cc</td>\n",
       "      <td>Inflammatory diseases of the respiratory tract...</td>\n",
       "      <td>2000-08-15</td>\n",
       "      <td>Vliet, Albert van der; Eiserich, Jason P; Cros...</td>\n",
       "      <td>Respir Res</td>\n",
       "      <td>NaN</td>\n",
       "      <td>NaN</td>\n",
       "      <td>NaN</td>\n",
       "      <td>document_parses/pdf_json/6b0567729c2143a66d737...</td>\n",
       "      <td>document_parses/pmc_json/PMC59543.xml.json</td>\n",
       "      <td>https://www.ncbi.nlm.nih.gov/pmc/articles/PMC5...</td>\n",
       "      <td>NaN</td>\n",
       "    </tr>\n",
       "    <tr>\n",
       "      <th>2</th>\n",
       "      <td>ejv2xln0</td>\n",
       "      <td>06ced00a5fc04215949aa72528f2eeaae1d58927</td>\n",
       "      <td>PMC</td>\n",
       "      <td>Surfactant protein-D and pulmonary host defense</td>\n",
       "      <td>10.1186/rr19</td>\n",
       "      <td>PMC59549</td>\n",
       "      <td>11667972</td>\n",
       "      <td>no-cc</td>\n",
       "      <td>Surfactant protein-D (SP-D) participates in th...</td>\n",
       "      <td>2000-08-25</td>\n",
       "      <td>Crouch, Erika C</td>\n",
       "      <td>Respir Res</td>\n",
       "      <td>NaN</td>\n",
       "      <td>NaN</td>\n",
       "      <td>NaN</td>\n",
       "      <td>document_parses/pdf_json/06ced00a5fc04215949aa...</td>\n",
       "      <td>document_parses/pmc_json/PMC59549.xml.json</td>\n",
       "      <td>https://www.ncbi.nlm.nih.gov/pmc/articles/PMC5...</td>\n",
       "      <td>NaN</td>\n",
       "    </tr>\n",
       "    <tr>\n",
       "      <th>3</th>\n",
       "      <td>2b73a28n</td>\n",
       "      <td>348055649b6b8cf2b9a376498df9bf41f7123605</td>\n",
       "      <td>PMC</td>\n",
       "      <td>Role of endothelin-1 in lung disease</td>\n",
       "      <td>10.1186/rr44</td>\n",
       "      <td>PMC59574</td>\n",
       "      <td>11686871</td>\n",
       "      <td>no-cc</td>\n",
       "      <td>Endothelin-1 (ET-1) is a 21 amino acid peptide...</td>\n",
       "      <td>2001-02-22</td>\n",
       "      <td>Fagan, Karen A; McMurtry, Ivan F; Rodman, David M</td>\n",
       "      <td>Respir Res</td>\n",
       "      <td>NaN</td>\n",
       "      <td>NaN</td>\n",
       "      <td>NaN</td>\n",
       "      <td>document_parses/pdf_json/348055649b6b8cf2b9a37...</td>\n",
       "      <td>document_parses/pmc_json/PMC59574.xml.json</td>\n",
       "      <td>https://www.ncbi.nlm.nih.gov/pmc/articles/PMC5...</td>\n",
       "      <td>NaN</td>\n",
       "    </tr>\n",
       "    <tr>\n",
       "      <th>4</th>\n",
       "      <td>9785vg6d</td>\n",
       "      <td>5f48792a5fa08bed9f56016f4981ae2ca6031b32</td>\n",
       "      <td>PMC</td>\n",
       "      <td>Gene expression in epithelial cells in respons...</td>\n",
       "      <td>10.1186/rr61</td>\n",
       "      <td>PMC59580</td>\n",
       "      <td>11686888</td>\n",
       "      <td>no-cc</td>\n",
       "      <td>Respiratory syncytial virus (RSV) and pneumoni...</td>\n",
       "      <td>2001-05-11</td>\n",
       "      <td>Domachowske, Joseph B; Bonville, Cynthia A; Ro...</td>\n",
       "      <td>Respir Res</td>\n",
       "      <td>NaN</td>\n",
       "      <td>NaN</td>\n",
       "      <td>NaN</td>\n",
       "      <td>document_parses/pdf_json/5f48792a5fa08bed9f560...</td>\n",
       "      <td>document_parses/pmc_json/PMC59580.xml.json</td>\n",
       "      <td>https://www.ncbi.nlm.nih.gov/pmc/articles/PMC5...</td>\n",
       "      <td>NaN</td>\n",
       "    </tr>\n",
       "  </tbody>\n",
       "</table>\n",
       "</div>"
      ],
      "text/plain": [
       "   cord_uid                                  paper_id source_x  \\\n",
       "0  ug7v899j  d1aafb70c066a2068b02786f8929fd9c900897fb      PMC   \n",
       "1  02tnwd4m  6b0567729c2143a66d737eb0a2f63f2dce2e5a7d      PMC   \n",
       "2  ejv2xln0  06ced00a5fc04215949aa72528f2eeaae1d58927      PMC   \n",
       "3  2b73a28n  348055649b6b8cf2b9a376498df9bf41f7123605      PMC   \n",
       "4  9785vg6d  5f48792a5fa08bed9f56016f4981ae2ca6031b32      PMC   \n",
       "\n",
       "                                               title                    doi  \\\n",
       "0  Clinical features of culture-proven Mycoplasma...  10.1186/1471-2334-1-6   \n",
       "1  Nitric oxide: a pro-inflammatory mediator in l...           10.1186/rr14   \n",
       "2    Surfactant protein-D and pulmonary host defense           10.1186/rr19   \n",
       "3               Role of endothelin-1 in lung disease           10.1186/rr44   \n",
       "4  Gene expression in epithelial cells in respons...           10.1186/rr61   \n",
       "\n",
       "      pmcid pubmed_id license  \\\n",
       "0  PMC35282  11472636   no-cc   \n",
       "1  PMC59543  11667967   no-cc   \n",
       "2  PMC59549  11667972   no-cc   \n",
       "3  PMC59574  11686871   no-cc   \n",
       "4  PMC59580  11686888   no-cc   \n",
       "\n",
       "                                            abstract publish_time  \\\n",
       "0  OBJECTIVE: This retrospective chart review des...   2001-07-04   \n",
       "1  Inflammatory diseases of the respiratory tract...   2000-08-15   \n",
       "2  Surfactant protein-D (SP-D) participates in th...   2000-08-25   \n",
       "3  Endothelin-1 (ET-1) is a 21 amino acid peptide...   2001-02-22   \n",
       "4  Respiratory syncytial virus (RSV) and pneumoni...   2001-05-11   \n",
       "\n",
       "                                             authors         journal  mag_id  \\\n",
       "0                Madani, Tariq A; Al-Ghamdi, Aisha A  BMC Infect Dis     NaN   \n",
       "1  Vliet, Albert van der; Eiserich, Jason P; Cros...      Respir Res     NaN   \n",
       "2                                    Crouch, Erika C      Respir Res     NaN   \n",
       "3  Fagan, Karen A; McMurtry, Ivan F; Rodman, David M      Respir Res     NaN   \n",
       "4  Domachowske, Joseph B; Bonville, Cynthia A; Ro...      Respir Res     NaN   \n",
       "\n",
       "  who_covidence_id arxiv_id  \\\n",
       "0              NaN      NaN   \n",
       "1              NaN      NaN   \n",
       "2              NaN      NaN   \n",
       "3              NaN      NaN   \n",
       "4              NaN      NaN   \n",
       "\n",
       "                                      pdf_json_files  \\\n",
       "0  document_parses/pdf_json/d1aafb70c066a2068b027...   \n",
       "1  document_parses/pdf_json/6b0567729c2143a66d737...   \n",
       "2  document_parses/pdf_json/06ced00a5fc04215949aa...   \n",
       "3  document_parses/pdf_json/348055649b6b8cf2b9a37...   \n",
       "4  document_parses/pdf_json/5f48792a5fa08bed9f560...   \n",
       "\n",
       "                               pmc_json_files  \\\n",
       "0  document_parses/pmc_json/PMC35282.xml.json   \n",
       "1  document_parses/pmc_json/PMC59543.xml.json   \n",
       "2  document_parses/pmc_json/PMC59549.xml.json   \n",
       "3  document_parses/pmc_json/PMC59574.xml.json   \n",
       "4  document_parses/pmc_json/PMC59580.xml.json   \n",
       "\n",
       "                                                 url  s2_id  \n",
       "0  https://www.ncbi.nlm.nih.gov/pmc/articles/PMC3...    NaN  \n",
       "1  https://www.ncbi.nlm.nih.gov/pmc/articles/PMC5...    NaN  \n",
       "2  https://www.ncbi.nlm.nih.gov/pmc/articles/PMC5...    NaN  \n",
       "3  https://www.ncbi.nlm.nih.gov/pmc/articles/PMC5...    NaN  \n",
       "4  https://www.ncbi.nlm.nih.gov/pmc/articles/PMC5...    NaN  "
      ]
     },
     "execution_count": 3,
     "metadata": {},
     "output_type": "execute_result"
    }
   ],
   "source": [
    "path = '/kaggle/input/CORD-19-research-challenge/'\n",
    "output_path = 'data/cleaned/'\n",
    "\n",
    "# loading metadata\n",
    "df = pd.read_csv(output_path+'metadata.csv')\n",
    "df = df.rename(columns={'sha':'paper_id'})\n",
    "df.head()"
   ]
  },
  {
   "cell_type": "markdown",
   "metadata": {},
   "source": [
    "Getting path of all the json files"
   ]
  },
  {
   "cell_type": "code",
   "execution_count": 4,
   "metadata": {
    "execution": {
     "iopub.execute_input": "2022-01-02T11:23:44.347241Z",
     "iopub.status.busy": "2022-01-02T11:23:44.346920Z",
     "iopub.status.idle": "2022-01-02T11:23:44.723486Z",
     "shell.execute_reply": "2022-01-02T11:23:44.722610Z",
     "shell.execute_reply.started": "2022-01-02T11:23:44.347205Z"
    }
   },
   "outputs": [
    {
     "data": {
      "text/plain": [
       "\"\\npath_to_json = path + 'document_parses/pdf_json/'\\nfilenames = os.listdir(path_to_json)\\n\""
      ]
     },
     "execution_count": 4,
     "metadata": {},
     "output_type": "execute_result"
    }
   ],
   "source": [
    "'''\n",
    "path_to_json = path + 'document_parses/pdf_json/'\n",
    "filenames = os.listdir(path_to_json)\n",
    "'''"
   ]
  },
  {
   "cell_type": "code",
   "execution_count": 5,
   "metadata": {},
   "outputs": [],
   "source": [
    "def format_text(text):\n",
    "    \n",
    "    text_list = [(body['section'], body['text']) for body in text]\n",
    "    dict_text = {d['section']:'' for d in text}\n",
    "    \n",
    "    for sec, body in text_list:\n",
    "        dict_text[sec] += body\n",
    "    \n",
    "    return dict_text\n",
    "\n",
    "\n",
    "\n",
    "def load_text(text):\n",
    "    \n",
    "    full_body = ''\n",
    "    dict_text = format_text(text)\n",
    "    for section, text in dict_text.items():\n",
    "        full_body += section\n",
    "        full_body += '\\n\\n'\n",
    "        full_body += text\n",
    "        full_body += '\\n\\n'\n",
    "    return full_body\n",
    "\n",
    "\n",
    "\n",
    "def load_df(files):\n",
    "    \n",
    "    paper_id = []\n",
    "    body = []\n",
    "    \n",
    "    for paper in range(len(files)):\n",
    "        current_paper = files[paper]\n",
    "        \n",
    "        paper_id.append(current_paper['paper_id'])\n",
    "        body.append(load_text(current_paper['body_text']))\n",
    "        \n",
    "    df = pd.DataFrame(zip(paper_id, body), \n",
    "                      columns=['paper_id', 'body_text'])\n",
    "        \n",
    "    return df"
   ]
  },
  {
   "cell_type": "markdown",
   "metadata": {},
   "source": [
    "Due to computational constraints, we will choose 25000 rows at random from the dataset and proceed with them."
   ]
  },
  {
   "cell_type": "code",
   "execution_count": 7,
   "metadata": {
    "execution": {
     "iopub.execute_input": "2022-01-02T11:30:25.537660Z",
     "iopub.status.busy": "2022-01-02T11:30:25.537102Z",
     "iopub.status.idle": "2022-01-02T11:31:07.976211Z",
     "shell.execute_reply": "2022-01-02T11:31:07.975553Z",
     "shell.execute_reply.started": "2022-01-02T11:30:25.537621Z"
    }
   },
   "outputs": [
    {
     "data": {
      "text/html": [
       "<div>\n",
       "<style scoped>\n",
       "    .dataframe tbody tr th:only-of-type {\n",
       "        vertical-align: middle;\n",
       "    }\n",
       "\n",
       "    .dataframe tbody tr th {\n",
       "        vertical-align: top;\n",
       "    }\n",
       "\n",
       "    .dataframe thead th {\n",
       "        text-align: right;\n",
       "    }\n",
       "</style>\n",
       "<table border=\"1\" class=\"dataframe\">\n",
       "  <thead>\n",
       "    <tr style=\"text-align: right;\">\n",
       "      <th></th>\n",
       "      <th>paper_id</th>\n",
       "      <th>body_text</th>\n",
       "    </tr>\n",
       "  </thead>\n",
       "  <tbody>\n",
       "    <tr>\n",
       "      <th>0</th>\n",
       "      <td>357a9cab01a3d9ba91c444ce43c5994e540e5d11</td>\n",
       "      <td>\\n\\nA novel coronavirus, SARS-CoV-2, has been ...</td>\n",
       "    </tr>\n",
       "    <tr>\n",
       "      <th>1</th>\n",
       "      <td>ce44ae196ace1fa4759367a8dd12bcfe7898bb79</td>\n",
       "      <td>Persistent hyposalivation in patients after CO...</td>\n",
       "    </tr>\n",
       "    <tr>\n",
       "      <th>2</th>\n",
       "      <td>76fb8e14901190e16cb442d7f46f426719db888e</td>\n",
       "      <td>Introduction\\n\\nThe novel coronavirus was firs...</td>\n",
       "    </tr>\n",
       "    <tr>\n",
       "      <th>3</th>\n",
       "      <td>0d53bcc821e58c36c25a5cced8511905c7bc495e</td>\n",
       "      <td>Summary Background\\n\\nThe key role of inflamma...</td>\n",
       "    </tr>\n",
       "    <tr>\n",
       "      <th>4</th>\n",
       "      <td>24c1b01ff3b7b7af670908187e18414fec555d0e</td>\n",
       "      <td>INTRODUCTION\\n\\nIn December 2019, severe acute...</td>\n",
       "    </tr>\n",
       "  </tbody>\n",
       "</table>\n",
       "</div>"
      ],
      "text/plain": [
       "                                   paper_id  \\\n",
       "0  357a9cab01a3d9ba91c444ce43c5994e540e5d11   \n",
       "1  ce44ae196ace1fa4759367a8dd12bcfe7898bb79   \n",
       "2  76fb8e14901190e16cb442d7f46f426719db888e   \n",
       "3  0d53bcc821e58c36c25a5cced8511905c7bc495e   \n",
       "4  24c1b01ff3b7b7af670908187e18414fec555d0e   \n",
       "\n",
       "                                           body_text  \n",
       "0  \\n\\nA novel coronavirus, SARS-CoV-2, has been ...  \n",
       "1  Persistent hyposalivation in patients after CO...  \n",
       "2  Introduction\\n\\nThe novel coronavirus was firs...  \n",
       "3  Summary Background\\n\\nThe key role of inflamma...  \n",
       "4  INTRODUCTION\\n\\nIn December 2019, severe acute...  "
      ]
     },
     "execution_count": 7,
     "metadata": {},
     "output_type": "execute_result"
    }
   ],
   "source": [
    "'''\n",
    "random.seed(42)\n",
    "filenames = random.choices(filenames, k=25000)\n",
    "\n",
    "json_files = []\n",
    "for filename in filenames:\n",
    "    filename = path_to_json + filename\n",
    "    file = json.load(open(filename, 'rb'))\n",
    "    json_files.append(file)\n",
    "    \n",
    "\n",
    "df_text = load_df(json_files)\n",
    "'''\n",
    "df_text = pd.read_csv(output_path+'df_text.csv')\n",
    "df_text.head()"
   ]
  },
  {
   "cell_type": "code",
   "execution_count": 13,
   "metadata": {
    "execution": {
     "iopub.execute_input": "2022-01-02T11:49:49.707082Z",
     "iopub.status.busy": "2022-01-02T11:49:49.706383Z",
     "iopub.status.idle": "2022-01-02T11:49:50.571840Z",
     "shell.execute_reply": "2022-01-02T11:49:50.571098Z",
     "shell.execute_reply.started": "2022-01-02T11:49:49.707047Z"
    }
   },
   "outputs": [
    {
     "name": "stdout",
     "output_type": "stream",
     "text": [
      "<class 'pandas.core.frame.DataFrame'>\n",
      "Int64Index: 21847 entries, 0 to 21846\n",
      "Data columns (total 7 columns):\n",
      " #   Column     Non-Null Count  Dtype \n",
      "---  ------     --------------  ----- \n",
      " 0   paper_id   21847 non-null  object\n",
      " 1   doi        21063 non-null  object\n",
      " 2   title      21847 non-null  object\n",
      " 3   authors    21636 non-null  object\n",
      " 4   journal    19774 non-null  object\n",
      " 5   abstract   18666 non-null  object\n",
      " 6   body_text  21847 non-null  object\n",
      "dtypes: object(7)\n",
      "memory usage: 1.3+ MB\n"
     ]
    }
   ],
   "source": [
    "final_df = pd.merge(df_text, df, on='paper_id')\n",
    "## removing irrelevant columns from the merged dataset.\n",
    "feats=['paper_id','doi', 'title','authors', \n",
    "       'journal', 'abstract', 'body_text']\n",
    "\n",
    "final_df = final_df[feats]\n",
    "final_df.info()"
   ]
  },
  {
   "cell_type": "code",
   "execution_count": 14,
   "metadata": {},
   "outputs": [
    {
     "data": {
      "text/plain": [
       "(15916, 7)"
      ]
     },
     "execution_count": 14,
     "metadata": {},
     "output_type": "execute_result"
    }
   ],
   "source": [
    "# drop null values, and duplicate values if there are any..\n",
    "\n",
    "final_df = final_df.dropna()\n",
    "final_df = final_df.drop_duplicates()\n",
    "final_df = final_df.reset_index(drop=True)\n",
    "final_df.shape"
   ]
  },
  {
   "cell_type": "markdown",
   "metadata": {},
   "source": [
    "Determine the language of each paper based on the body text provided. Only keep the papers written in English.\n",
    "\n"
   ]
  },
  {
   "cell_type": "code",
   "execution_count": 16,
   "metadata": {
    "execution": {
     "iopub.execute_input": "2022-01-02T11:49:55.014393Z",
     "iopub.status.busy": "2022-01-02T11:49:55.014141Z",
     "iopub.status.idle": "2022-01-02T12:02:39.487913Z",
     "shell.execute_reply": "2022-01-02T12:02:39.487225Z",
     "shell.execute_reply.started": "2022-01-02T11:49:55.014365Z"
    }
   },
   "outputs": [
    {
     "name": "stderr",
     "output_type": "stream",
     "text": [
      "100%|█████████████████████████████████████| 15916/15916 [07:02<00:00, 37.65it/s]\n"
     ]
    },
    {
     "data": {
      "image/png": "[encoded data removed]",
      "text/plain": [
       "<Figure size 432x288 with 1 Axes>"
      ]
     },
     "metadata": {},
     "output_type": "display_data"
    }
   ],
   "source": [
    "lang = []\n",
    "\n",
    "for col in tqdm(range(len(final_df))):\n",
    "    try:\n",
    "        lang.append(detect(final_df['body_text'].iloc[col]))\n",
    "    except:\n",
    "        lang.append('No text provided')\n",
    "        \n",
    "\n",
    "final_df['language'] = lang\n",
    "\n",
    "lang_counts = final_df['language'].value_counts()\n",
    "plt.title('Distribution of languages in the dataset')\n",
    "plt.bar(lang_counts.index, lang_counts)\n",
    "plt.xlabel('Language')\n",
    "plt.ylabel('Count')\n",
    "plt.show()"
   ]
  },
  {
   "cell_type": "code",
   "execution_count": 17,
   "metadata": {
    "execution": {
     "iopub.execute_input": "2022-01-02T12:02:55.172387Z",
     "iopub.status.busy": "2022-01-02T12:02:55.171692Z",
     "iopub.status.idle": "2022-01-02T12:02:55.227294Z",
     "shell.execute_reply": "2022-01-02T12:02:55.226462Z",
     "shell.execute_reply.started": "2022-01-02T12:02:55.172349Z"
    }
   },
   "outputs": [
    {
     "name": "stdout",
     "output_type": "stream",
     "text": [
      "<class 'pandas.core.frame.DataFrame'>\n",
      "Int64Index: 15640 entries, 0 to 15915\n",
      "Data columns (total 8 columns):\n",
      " #   Column     Non-Null Count  Dtype \n",
      "---  ------     --------------  ----- \n",
      " 0   paper_id   15640 non-null  object\n",
      " 1   doi        15640 non-null  object\n",
      " 2   title      15640 non-null  object\n",
      " 3   authors    15640 non-null  object\n",
      " 4   journal    15640 non-null  object\n",
      " 5   abstract   15640 non-null  object\n",
      " 6   body_text  15640 non-null  object\n",
      " 7   language   15640 non-null  object\n",
      "dtypes: object(8)\n",
      "memory usage: 1.1+ MB\n"
     ]
    }
   ],
   "source": [
    "final_df = final_df[final_df['language'] == 'en']\n",
    "final_df.info()"
   ]
  },
  {
   "cell_type": "code",
   "execution_count": 18,
   "metadata": {
    "execution": {
     "iopub.execute_input": "2022-01-02T12:02:55.819144Z",
     "iopub.status.busy": "2022-01-02T12:02:55.818885Z",
     "iopub.status.idle": "2022-01-02T12:03:10.369120Z",
     "shell.execute_reply": "2022-01-02T12:03:10.368138Z",
     "shell.execute_reply.started": "2022-01-02T12:02:55.819114Z"
    }
   },
   "outputs": [],
   "source": [
    "final_df.to_csv(output_path+'data.csv', index=False)"
   ]
  },
  {
   "cell_type": "code",
   "execution_count": null,
   "metadata": {},
   "outputs": [],
   "source": []
  }
 ],
 "metadata": {
  "kernelspec": {
   "display_name": "Python 3 (ipykernel)",
   "language": "python",
   "name": "python3"
  },
  "language_info": {
   "codemirror_mode": {
    "name": "ipython",
    "version": 3
   },
   "file_extension": ".py",
   "mimetype": "text/x-python",
   "name": "python",
   "nbconvert_exporter": "python",
   "pygments_lexer": "ipython3",
   "version": "3.9.9"
  }
 },
 "nbformat": 4,
 "nbformat_minor": 4
}
